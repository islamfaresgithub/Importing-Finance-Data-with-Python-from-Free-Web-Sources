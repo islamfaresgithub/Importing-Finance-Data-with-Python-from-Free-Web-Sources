{
 "cells": [
  {
   "cell_type": "markdown",
   "metadata": {},
   "source": [
    "# Importing Data from EOD Data"
   ]
  },
  {
   "cell_type": "code",
   "execution_count": null,
   "metadata": {},
   "outputs": [],
   "source": [
    "token = \"INSERT YOUR PERSONAL TOKEN HERE!\""
   ]
  },
  {
   "cell_type": "markdown",
   "metadata": {},
   "source": [
    "## Introduction to the API (hands-on)"
   ]
  },
  {
   "cell_type": "code",
   "execution_count": null,
   "metadata": {},
   "outputs": [],
   "source": [
    "import pandas as pd"
   ]
  },
  {
   "cell_type": "code",
   "execution_count": null,
   "metadata": {},
   "outputs": [],
   "source": [
    "url = \"https://eodhistoricaldata.com/api/eod/AAPL.US?api_token=OeAFFmMliFG5orCUuwAKQ8l4WWFQ67YX&period=d\""
   ]
  },
  {
   "cell_type": "code",
   "execution_count": null,
   "metadata": {
    "scrolled": true
   },
   "outputs": [],
   "source": [
    "pd.read_csv(url)"
   ]
  },
  {
   "cell_type": "code",
   "execution_count": null,
   "metadata": {},
   "outputs": [],
   "source": []
  },
  {
   "cell_type": "markdown",
   "metadata": {},
   "source": [
    "## Getting Historical Stock Prices and Volume Data"
   ]
  },
  {
   "cell_type": "code",
   "execution_count": null,
   "metadata": {},
   "outputs": [],
   "source": [
    "import pandas as pd"
   ]
  },
  {
   "cell_type": "code",
   "execution_count": null,
   "metadata": {},
   "outputs": [],
   "source": [
    "def stock_prices(ticker, start, end, freq):\n",
    "    url = \"https://eodhistoricaldata.com/api/eod/{}?from={}&to={}&api_token={}&period={}\".format(ticker, start, end, token, freq)\n",
    "    df = pd.read_csv(url, index_col = \"Date\").iloc[:-1]\n",
    "    df.index = pd.to_datetime(df.index)\n",
    "    return df"
   ]
  },
  {
   "cell_type": "code",
   "execution_count": null,
   "metadata": {
    "scrolled": true
   },
   "outputs": [],
   "source": [
    "stock_prices(ticker = \"MSFT\", start = \"1900-01-01\", end = \"2019-08-24\", freq = \"m\")"
   ]
  },
  {
   "cell_type": "code",
   "execution_count": null,
   "metadata": {
    "scrolled": true
   },
   "outputs": [],
   "source": [
    "stock_prices(\"MSFT\", start = \"1900-01-01\", end = \"2019-08-24\", freq = \"w\")"
   ]
  },
  {
   "cell_type": "code",
   "execution_count": null,
   "metadata": {
    "scrolled": true
   },
   "outputs": [],
   "source": [
    "msft = stock_prices(\"MSFT\", start = \"1900-01-01\", end = \"2019-08-24\", freq = \"d\")"
   ]
  },
  {
   "cell_type": "code",
   "execution_count": null,
   "metadata": {},
   "outputs": [],
   "source": [
    "msft.tail()"
   ]
  },
  {
   "cell_type": "code",
   "execution_count": null,
   "metadata": {},
   "outputs": [],
   "source": [
    "import yfinance as yf"
   ]
  },
  {
   "cell_type": "code",
   "execution_count": null,
   "metadata": {
    "scrolled": false
   },
   "outputs": [],
   "source": [
    "yf.download(\"MSFT\").tail()"
   ]
  },
  {
   "cell_type": "code",
   "execution_count": null,
   "metadata": {},
   "outputs": [],
   "source": []
  },
  {
   "cell_type": "markdown",
   "metadata": {},
   "source": [
    "## Stock Splits and Dividends"
   ]
  },
  {
   "cell_type": "code",
   "execution_count": null,
   "metadata": {},
   "outputs": [],
   "source": [
    "import pandas as pd"
   ]
  },
  {
   "cell_type": "code",
   "execution_count": null,
   "metadata": {},
   "outputs": [],
   "source": [
    "def dividends(ticker, start):\n",
    "    url = \"https://eodhistoricaldata.com/api/div/{}?api_token={}&from={}\".format(ticker, token, start)\n",
    "    df = pd.read_csv(url, index_col = \"Date\").iloc[:-1]\n",
    "    df.index = pd.to_datetime(df.index)\n",
    "    return df"
   ]
  },
  {
   "cell_type": "code",
   "execution_count": null,
   "metadata": {
    "scrolled": true
   },
   "outputs": [],
   "source": [
    "dividends(\"MSFT\",\"1900-01-01\")"
   ]
  },
  {
   "cell_type": "code",
   "execution_count": null,
   "metadata": {},
   "outputs": [],
   "source": [
    "def splits(ticker, start):\n",
    "    url = \"https://eodhistoricaldata.com/api/splits/{}?api_token={}&from={}\".format(ticker, token, start)\n",
    "    df = pd.read_csv(url, parse_dates = [\"Date\"], index_col = \"Date\").iloc[:-1][\"Stock Splits\"]\n",
    "    if len(df) == 0:\n",
    "        df = pd.DataFrame(columns = [\"Splits\"])\n",
    "        df.index.name = \"Date\"\n",
    "    else:\n",
    "        df = df.str.split(\"/\", expand = True).astype(\"float\")\n",
    "        df.index = pd.to_datetime(df.index)\n",
    "        df = df.iloc[:, 0].div(df.iloc[:,1]).to_frame()\n",
    "        df.columns = [\"Splits\"]\n",
    "    return df"
   ]
  },
  {
   "cell_type": "code",
   "execution_count": null,
   "metadata": {},
   "outputs": [],
   "source": [
    "splits(\"MSFT\", \"1900-01-01\")"
   ]
  },
  {
   "cell_type": "code",
   "execution_count": null,
   "metadata": {},
   "outputs": [],
   "source": [
    "def stock_prices_actions(ticker, start, end, freq):\n",
    "    \n",
    "    url = \"https://eodhistoricaldata.com/api/eod/{}?from={}&to={}&api_token={}&period={}\".format(ticker, start, end, token, freq)\n",
    "    df = pd.read_csv(url, index_col = \"Date\").iloc[:-1]\n",
    "    df.index = pd.to_datetime(df.index)\n",
    "    \n",
    "    url = \"https://eodhistoricaldata.com/api/div/{}?api_token={}&from={}\".format(ticker, token, start)\n",
    "    df_d = pd.read_csv(url, index_col = \"Date\").iloc[:-1]\n",
    "    df_d.index = pd.to_datetime(df_d.index)\n",
    "    if len(df_d) == 0:\n",
    "        df_d = pd.DataFrame([0.0], index = pd.to_datetime([start]), columns = [\"Dividends\"])\n",
    "    \n",
    "    url = \"https://eodhistoricaldata.com/api/splits/{}?api_token={}&from={}\".format(ticker, token, start)\n",
    "    df_s = pd.read_csv(url, parse_dates = [\"Date\"], index_col = \"Date\").iloc[:-1][\"Stock Splits\"]\n",
    "    if len(df_s) == 0:\n",
    "        df_s = pd.DataFrame([1.0], index = pd.to_datetime([start]), columns = [\"Splits\"])\n",
    "    else:\n",
    "        df_s = df_s.str.split(\"/\", expand = True).astype(\"float\")\n",
    "        df_s.index = pd.to_datetime(df_s.index)\n",
    "        df_s = df_s.iloc[:, 0].div(df_s.iloc[:,1]).to_frame()\n",
    "        df_s.columns = [\"Splits\"]\n",
    "    \n",
    "    df[\"Dividends\"] = df_d\n",
    "    df.Dividends.fillna(0, inplace = True)\n",
    "    df[\"Splits\"] = df_s\n",
    "    df.Splits.fillna(1, inplace = True)\n",
    "    \n",
    "    return df"
   ]
  },
  {
   "cell_type": "code",
   "execution_count": null,
   "metadata": {
    "scrolled": true
   },
   "outputs": [],
   "source": [
    "stock_prices_actions(\"MSFT\", \"1900-01-01\", \"2019-08-24\", \"d\")"
   ]
  },
  {
   "cell_type": "code",
   "execution_count": null,
   "metadata": {},
   "outputs": [],
   "source": [
    "msft = stock_prices_actions(\"MSFT\", \"1900-01-01\", \"2019-08-24\", \"d\")"
   ]
  },
  {
   "cell_type": "code",
   "execution_count": null,
   "metadata": {},
   "outputs": [],
   "source": [
    "msft.head()"
   ]
  },
  {
   "cell_type": "code",
   "execution_count": null,
   "metadata": {},
   "outputs": [],
   "source": [
    "msft.tail()"
   ]
  },
  {
   "cell_type": "code",
   "execution_count": null,
   "metadata": {},
   "outputs": [],
   "source": [
    "import yfinance as yf"
   ]
  },
  {
   "cell_type": "code",
   "execution_count": null,
   "metadata": {},
   "outputs": [],
   "source": [
    "ya = yf.download(\"MSFT\", end = \"2019-08-24\", actions = True)"
   ]
  },
  {
   "cell_type": "code",
   "execution_count": null,
   "metadata": {},
   "outputs": [],
   "source": [
    "ya.tail()"
   ]
  },
  {
   "cell_type": "code",
   "execution_count": null,
   "metadata": {},
   "outputs": [],
   "source": [
    "ya[ya[\"Stock Splits\"] > 0]"
   ]
  },
  {
   "cell_type": "code",
   "execution_count": null,
   "metadata": {},
   "outputs": [],
   "source": [
    "msft[msft.Splits > 1] "
   ]
  },
  {
   "cell_type": "code",
   "execution_count": null,
   "metadata": {},
   "outputs": [],
   "source": [
    "ya.loc[\"2003-02-13\":\"2003-02-22\"]"
   ]
  },
  {
   "cell_type": "code",
   "execution_count": null,
   "metadata": {},
   "outputs": [],
   "source": [
    "msft.loc[\"2003-02-13\":\"2003-02-22\"]"
   ]
  },
  {
   "cell_type": "code",
   "execution_count": null,
   "metadata": {
    "scrolled": true
   },
   "outputs": [],
   "source": [
    "ya[ya[\"Dividends\"] > 0].tail()"
   ]
  },
  {
   "cell_type": "code",
   "execution_count": null,
   "metadata": {},
   "outputs": [],
   "source": [
    "msft[msft.Dividends > 0].tail()"
   ]
  },
  {
   "cell_type": "code",
   "execution_count": null,
   "metadata": {},
   "outputs": [],
   "source": []
  },
  {
   "cell_type": "markdown",
   "metadata": {},
   "source": [
    "## Financial Indexes"
   ]
  },
  {
   "cell_type": "code",
   "execution_count": null,
   "metadata": {},
   "outputs": [],
   "source": [
    "import pandas as pd"
   ]
  },
  {
   "cell_type": "code",
   "execution_count": null,
   "metadata": {},
   "outputs": [],
   "source": [
    "def index_prices(ticker, start, end, freq):\n",
    "    url = \"https://eodhistoricaldata.com/api/eod/{}.INDX?from={}&to={}&api_token={}&period={}\".format(ticker, start, end, token, freq)\n",
    "    df = pd.read_csv(url, parse_dates = [\"Date\"], index_col = \"Date\").iloc[:-1]\n",
    "    df.index = pd.to_datetime(df.index)\n",
    "    return df"
   ]
  },
  {
   "cell_type": "code",
   "execution_count": null,
   "metadata": {},
   "outputs": [],
   "source": [
    "ticker = \"GSPC\"\n",
    "ticker2 = \"DJI\"\n",
    "ticker3 = \"SP500TR\""
   ]
  },
  {
   "cell_type": "code",
   "execution_count": null,
   "metadata": {
    "scrolled": true
   },
   "outputs": [],
   "source": [
    "index_prices(ticker, start = \"1900-01-01\", end = \"2019-08-24\", freq = \"d\")"
   ]
  },
  {
   "cell_type": "code",
   "execution_count": null,
   "metadata": {
    "scrolled": true
   },
   "outputs": [],
   "source": [
    "index_prices(ticker2, start = \"2010-01-01\", end = \"2019-08-24\", freq = \"w\")"
   ]
  },
  {
   "cell_type": "code",
   "execution_count": null,
   "metadata": {
    "scrolled": true
   },
   "outputs": [],
   "source": [
    "index_prices(ticker3, start = \"1900-01-01\", end = \"2019-08-24\", freq = \"d\")"
   ]
  },
  {
   "cell_type": "code",
   "execution_count": null,
   "metadata": {},
   "outputs": [],
   "source": []
  },
  {
   "cell_type": "markdown",
   "metadata": {},
   "source": [
    "## Currencies / FX"
   ]
  },
  {
   "cell_type": "code",
   "execution_count": null,
   "metadata": {},
   "outputs": [],
   "source": [
    "import pandas as pd"
   ]
  },
  {
   "cell_type": "code",
   "execution_count": null,
   "metadata": {},
   "outputs": [],
   "source": [
    "def fx_rates(pair, start, end, freq):\n",
    "    url = \"https://eodhistoricaldata.com/api/eod/{}.FOREX?from={}&to={}&api_token={}&period={}\".format(pair, start, end, token, freq)\n",
    "    df = pd.read_csv(url, parse_dates = [\"Date\"], index_col = \"Date\").iloc[:-1]\n",
    "    df.index = pd.to_datetime(df.index)\n",
    "    return df"
   ]
  },
  {
   "cell_type": "code",
   "execution_count": null,
   "metadata": {
    "scrolled": true
   },
   "outputs": [],
   "source": [
    "fx_rates(\"EURUSD\", start = \"1900-01-01\", end = \"2019-08-24\", freq = \"d\")"
   ]
  },
  {
   "cell_type": "code",
   "execution_count": null,
   "metadata": {
    "scrolled": true
   },
   "outputs": [],
   "source": [
    "fx_rates(\"EUR\", start = \"1900-01-01\", end = \"2019-08-24\", freq = \"d\")"
   ]
  },
  {
   "cell_type": "code",
   "execution_count": null,
   "metadata": {
    "scrolled": true
   },
   "outputs": [],
   "source": [
    "fx_rates(\"USDGBP\", start = \"1900-01-01\", end = \"2019-08-24\", freq = \"d\")"
   ]
  },
  {
   "cell_type": "code",
   "execution_count": null,
   "metadata": {},
   "outputs": [],
   "source": []
  },
  {
   "cell_type": "markdown",
   "metadata": {},
   "source": [
    "## Cryptocurrencies"
   ]
  },
  {
   "cell_type": "code",
   "execution_count": null,
   "metadata": {},
   "outputs": [],
   "source": [
    "import pandas as pd"
   ]
  },
  {
   "cell_type": "code",
   "execution_count": null,
   "metadata": {},
   "outputs": [],
   "source": [
    "def cc_rates(symbol, start, end, freq):\n",
    "    url = \"https://eodhistoricaldata.com/api/eod/{}-USD.CC?from={}&to={}&api_token={}&period={}\".format(symbol, start, end, token, freq)\n",
    "    df = pd.read_csv(url, parse_dates = [\"Date\"], index_col = \"Date\").iloc[:-1]\n",
    "    df.index = pd.to_datetime(df.index)\n",
    "    return df"
   ]
  },
  {
   "cell_type": "code",
   "execution_count": null,
   "metadata": {
    "scrolled": true
   },
   "outputs": [],
   "source": [
    "cc_rates(\"BTC\", \"2000-01-01\", end = \"2019-08-24\", freq = \"d\")"
   ]
  },
  {
   "cell_type": "code",
   "execution_count": null,
   "metadata": {
    "scrolled": true
   },
   "outputs": [],
   "source": [
    "cc_rates(\"ETH\", \"2010-01-01\", end = \"2019-08-24\", freq = \"w\")"
   ]
  },
  {
   "cell_type": "code",
   "execution_count": null,
   "metadata": {
    "scrolled": true
   },
   "outputs": [],
   "source": [
    "cc =cc_rates(\"ETH\", \"2010-01-01\", end = \"2019-08-24\", freq = \"w\")"
   ]
  },
  {
   "cell_type": "code",
   "execution_count": null,
   "metadata": {},
   "outputs": [],
   "source": [
    "cc.head()"
   ]
  },
  {
   "cell_type": "code",
   "execution_count": null,
   "metadata": {},
   "outputs": [],
   "source": []
  },
  {
   "cell_type": "markdown",
   "metadata": {},
   "source": [
    "## Commodities"
   ]
  },
  {
   "cell_type": "code",
   "execution_count": null,
   "metadata": {},
   "outputs": [],
   "source": [
    "import pandas as pd"
   ]
  },
  {
   "cell_type": "code",
   "execution_count": null,
   "metadata": {},
   "outputs": [],
   "source": [
    "def commodity_prices(symbol, start, end, freq):\n",
    "    url = \"https://eodhistoricaldata.com/api/eod/{}.COMM?from={}&to={}&api_token={}&period={}\".format(symbol, start, end, token, freq)\n",
    "    df = pd.read_csv(url, parse_dates = [\"Date\"], index_col = \"Date\").iloc[:-1]\n",
    "    df.index = pd.to_datetime(df.index)\n",
    "    return df"
   ]
  },
  {
   "cell_type": "code",
   "execution_count": null,
   "metadata": {
    "scrolled": true
   },
   "outputs": [],
   "source": [
    "commodity_prices(\"GC\", start = \"1900-01-01\", end = \"2019-08-24\", freq = \"d\")"
   ]
  },
  {
   "cell_type": "code",
   "execution_count": null,
   "metadata": {
    "scrolled": true
   },
   "outputs": [],
   "source": [
    "commodity_prices(\"CL\", start = \"1900-01-01\", end = \"2019-08-24\", freq = \"m\")"
   ]
  },
  {
   "cell_type": "code",
   "execution_count": null,
   "metadata": {},
   "outputs": [],
   "source": []
  },
  {
   "cell_type": "markdown",
   "metadata": {},
   "source": [
    "## Mutual Funds & ETFs"
   ]
  },
  {
   "cell_type": "code",
   "execution_count": null,
   "metadata": {},
   "outputs": [],
   "source": [
    "import pandas as pd"
   ]
  },
  {
   "cell_type": "code",
   "execution_count": null,
   "metadata": {},
   "outputs": [],
   "source": [
    "ticker = \"TLT\" # iShares 20+ Year Treasury Bond ETF\n",
    "ticker2 = \"OMOIX\" # Vivaldi Multi-Strategy Fund Class I"
   ]
  },
  {
   "cell_type": "code",
   "execution_count": null,
   "metadata": {},
   "outputs": [],
   "source": [
    "def fund_prices_actions(ticker, start, end, freq):\n",
    "    \n",
    "    url = \"https://eodhistoricaldata.com/api/eod/{}?from={}&to={}&api_token={}&period={}\".format(ticker, start, end, token, freq)\n",
    "    df = pd.read_csv(url, index_col = \"Date\").iloc[:-1]\n",
    "    df.index = pd.to_datetime(df.index)\n",
    "    \n",
    "    url = \"https://eodhistoricaldata.com/api/div/{}?api_token={}&from={}\".format(ticker, token, start)\n",
    "    df_d = pd.read_csv(url, index_col = \"Date\").iloc[:-1]\n",
    "    df_d.index = pd.to_datetime(df_d.index)\n",
    "    if len(df_d) == 0:\n",
    "        df_d = pd.DataFrame([0.0], index = pd.to_datetime([start]), columns = [\"Dividends\"])\n",
    "    \n",
    "    url = \"https://eodhistoricaldata.com/api/splits/{}?api_token={}&from={}\".format(ticker, token, start)\n",
    "    df_s = pd.read_csv(url, parse_dates = [\"Date\"], index_col = \"Date\").iloc[:-1][\"Stock Splits\"]\n",
    "    if len(df_s) == 0:\n",
    "        df_s = pd.DataFrame([1.0], index = pd.to_datetime([start]), columns = [\"Splits\"])\n",
    "    else:\n",
    "        df_s = df_s.str.split(\"/\", expand = True).astype(\"float\")\n",
    "        df_s.index = pd.to_datetime(df_s.index)\n",
    "        df_s = df_s.iloc[:, 0].div(df_s.iloc[:,1]).to_frame()\n",
    "        df_s.columns = [\"Splits\"]\n",
    "    \n",
    "    df[\"Dividends\"] = df_d\n",
    "    df.Dividends.fillna(0, inplace = True)\n",
    "    df[\"Splits\"] = df_s\n",
    "    df.Splits.fillna(1, inplace = True)\n",
    "    \n",
    "    return df"
   ]
  },
  {
   "cell_type": "code",
   "execution_count": null,
   "metadata": {
    "scrolled": true
   },
   "outputs": [],
   "source": [
    "fund_prices_actions(ticker, start = \"1900-01-01\", end = \"2019-08-24\", freq = \"d\")"
   ]
  },
  {
   "cell_type": "code",
   "execution_count": null,
   "metadata": {
    "scrolled": true
   },
   "outputs": [],
   "source": [
    "fund_prices_actions(ticker2, start = \"1900-01-01\", end = \"2019-08-24\", freq = \"d\")"
   ]
  },
  {
   "cell_type": "code",
   "execution_count": null,
   "metadata": {},
   "outputs": [],
   "source": []
  },
  {
   "cell_type": "markdown",
   "metadata": {},
   "source": [
    "## Treasury Yields"
   ]
  },
  {
   "cell_type": "code",
   "execution_count": null,
   "metadata": {},
   "outputs": [],
   "source": [
    "import pandas as pd"
   ]
  },
  {
   "cell_type": "code",
   "execution_count": null,
   "metadata": {},
   "outputs": [],
   "source": [
    "ticker1 = \"TNX\" # 10Y Treasury Yield\n",
    "ticker2 = \"FVX\" # 5Y Treasury Yield"
   ]
  },
  {
   "cell_type": "code",
   "execution_count": null,
   "metadata": {},
   "outputs": [],
   "source": [
    "def treasury_yields(ticker, start, end, freq):\n",
    "    url = \"https://eodhistoricaldata.com/api/eod/{}.INDX?from={}&to={}&api_token={}&period={}\".format(ticker, start, end, token, freq)\n",
    "    df = pd.read_csv(url, parse_dates = [\"Date\"], index_col = \"Date\").iloc[:-1]\n",
    "    df.index = pd.to_datetime(df.index)\n",
    "    return df"
   ]
  },
  {
   "cell_type": "code",
   "execution_count": null,
   "metadata": {
    "scrolled": true
   },
   "outputs": [],
   "source": [
    "treasury_yields(\"TNX\", start = \"1900-01-01\", end = \"2019-08-24\", freq = \"d\")"
   ]
  },
  {
   "cell_type": "code",
   "execution_count": null,
   "metadata": {
    "scrolled": true
   },
   "outputs": [],
   "source": [
    "treasury_yields(ticker2, start = \"1900-01-01\", end = \"2019-08-24\", freq = \"d\")"
   ]
  },
  {
   "cell_type": "code",
   "execution_count": null,
   "metadata": {},
   "outputs": [],
   "source": []
  },
  {
   "cell_type": "markdown",
   "metadata": {},
   "source": [
    "## Stock Fundamentals, Meta Info and Performance Metrics"
   ]
  },
  {
   "cell_type": "code",
   "execution_count": null,
   "metadata": {},
   "outputs": [],
   "source": [
    "import pandas as pd\n",
    "import requests"
   ]
  },
  {
   "cell_type": "code",
   "execution_count": null,
   "metadata": {},
   "outputs": [],
   "source": [
    "def meta_general(ticker):\n",
    "    return pd.Series(requests.get(\"https://eodhistoricaldata.com/api/fundamentals/{}?api_token={}\".format(ticker, token)).json()[\"General\"])"
   ]
  },
  {
   "cell_type": "code",
   "execution_count": null,
   "metadata": {},
   "outputs": [],
   "source": [
    "meta_general(\"MSFT\")"
   ]
  },
  {
   "cell_type": "code",
   "execution_count": null,
   "metadata": {},
   "outputs": [],
   "source": [
    "def meta_highl(ticker):\n",
    "    return pd.Series(requests.get(\"https://eodhistoricaldata.com/api/fundamentals/{}?api_token={}\".format(ticker, token)).json()[\"Highlights\"])"
   ]
  },
  {
   "cell_type": "code",
   "execution_count": null,
   "metadata": {},
   "outputs": [],
   "source": [
    "meta_highl(\"MSFT\")"
   ]
  },
  {
   "cell_type": "code",
   "execution_count": null,
   "metadata": {},
   "outputs": [],
   "source": [
    "def meta_value(ticker):\n",
    "    return pd.Series(requests.get(\"https://eodhistoricaldata.com/api/fundamentals/{}?api_token={}\".format(ticker, token)).json()[\"Valuation\"])"
   ]
  },
  {
   "cell_type": "code",
   "execution_count": null,
   "metadata": {},
   "outputs": [],
   "source": [
    "meta_value(\"MSFT\")"
   ]
  },
  {
   "cell_type": "code",
   "execution_count": null,
   "metadata": {},
   "outputs": [],
   "source": [
    "def meta_share(ticker):\n",
    "    return pd.Series(requests.get(\"https://eodhistoricaldata.com/api/fundamentals/{}?api_token={}\".format(ticker, token)).json()[\"SharesStats\"])"
   ]
  },
  {
   "cell_type": "code",
   "execution_count": null,
   "metadata": {},
   "outputs": [],
   "source": [
    "meta_share(\"MSFT\")"
   ]
  },
  {
   "cell_type": "code",
   "execution_count": null,
   "metadata": {},
   "outputs": [],
   "source": [
    "def meta_tech(ticker):\n",
    "    return pd.Series(requests.get(\"https://eodhistoricaldata.com/api/fundamentals/{}?api_token={}\".format(ticker, token)).json()[\"Technicals\"])"
   ]
  },
  {
   "cell_type": "code",
   "execution_count": null,
   "metadata": {},
   "outputs": [],
   "source": [
    "meta_tech(\"MSFT\")"
   ]
  },
  {
   "cell_type": "code",
   "execution_count": null,
   "metadata": {},
   "outputs": [],
   "source": [
    "def meta_spldiv(ticker):\n",
    "    return pd.Series(requests.get(\"https://eodhistoricaldata.com/api/fundamentals/{}?api_token={}\".format(ticker, token)).json()['SplitsDividends'])"
   ]
  },
  {
   "cell_type": "code",
   "execution_count": null,
   "metadata": {},
   "outputs": [],
   "source": [
    "meta_spldiv(\"MSFT\")"
   ]
  },
  {
   "cell_type": "code",
   "execution_count": null,
   "metadata": {},
   "outputs": [],
   "source": [
    "def meta_outshares(ticker):\n",
    "    return pd.DataFrame(requests.get(\"https://eodhistoricaldata.com/api/fundamentals/{}?api_token={}\".format(ticker, token)).json()[\"outstandingShares\"][\"quarterly\"]).T"
   ]
  },
  {
   "cell_type": "code",
   "execution_count": null,
   "metadata": {
    "scrolled": true
   },
   "outputs": [],
   "source": [
    "meta_outshares(\"MSFT\")"
   ]
  },
  {
   "cell_type": "code",
   "execution_count": null,
   "metadata": {},
   "outputs": [],
   "source": [
    "def meta_earn(ticker):\n",
    "    return pd.DataFrame(requests.get(\"https://eodhistoricaldata.com/api/fundamentals/{}?api_token={}\".format(ticker, token)).json()['Earnings'][\"History\"]).T"
   ]
  },
  {
   "cell_type": "code",
   "execution_count": null,
   "metadata": {},
   "outputs": [],
   "source": [
    "meta_earn(\"MSFT\")"
   ]
  },
  {
   "cell_type": "code",
   "execution_count": null,
   "metadata": {},
   "outputs": [],
   "source": []
  },
  {
   "cell_type": "markdown",
   "metadata": {},
   "source": [
    "## Financials (Balance Sheet, Cashflows, P&L)"
   ]
  },
  {
   "cell_type": "code",
   "execution_count": null,
   "metadata": {},
   "outputs": [],
   "source": [
    "import pandas as pd\n",
    "import requests"
   ]
  },
  {
   "cell_type": "code",
   "execution_count": null,
   "metadata": {},
   "outputs": [],
   "source": [
    "def balance(ticker):\n",
    "    return pd.DataFrame(requests.get(\"https://eodhistoricaldata.com/api/fundamentals/{}?api_token={}\".format(ticker, token)).json()[\"Financials\"][\"Balance_Sheet\"][\"yearly\"])"
   ]
  },
  {
   "cell_type": "code",
   "execution_count": null,
   "metadata": {
    "scrolled": true
   },
   "outputs": [],
   "source": [
    "balance(\"MSFT\")"
   ]
  },
  {
   "cell_type": "code",
   "execution_count": null,
   "metadata": {},
   "outputs": [],
   "source": [
    "def cashflow(ticker):\n",
    "    return pd.DataFrame(requests.get(\"https://eodhistoricaldata.com/api/fundamentals/{}?api_token={}\".format(ticker, token)).json()[\"Financials\"][\"Cash_Flow\"][\"yearly\"])"
   ]
  },
  {
   "cell_type": "code",
   "execution_count": null,
   "metadata": {},
   "outputs": [],
   "source": [
    "cashflow(\"MSFT\")"
   ]
  },
  {
   "cell_type": "code",
   "execution_count": null,
   "metadata": {},
   "outputs": [],
   "source": [
    "def income(ticker):\n",
    "    return pd.DataFrame(requests.get(\"https://eodhistoricaldata.com/api/fundamentals/{}?api_token={}\".format(ticker, token)).json()[\"Financials\"][\"Income_Statement\"][\"yearly\"])"
   ]
  },
  {
   "cell_type": "code",
   "execution_count": null,
   "metadata": {},
   "outputs": [],
   "source": [
    "income(\"MSFT\")"
   ]
  },
  {
   "cell_type": "code",
   "execution_count": null,
   "metadata": {},
   "outputs": [],
   "source": []
  },
  {
   "cell_type": "markdown",
   "metadata": {},
   "source": [
    "## Fundamentals for Funds & ETFs "
   ]
  },
  {
   "cell_type": "code",
   "execution_count": null,
   "metadata": {},
   "outputs": [],
   "source": [
    "import pandas as pd\n",
    "import requests"
   ]
  },
  {
   "cell_type": "code",
   "execution_count": null,
   "metadata": {},
   "outputs": [],
   "source": [
    "ticker = \"TLT\" # iShares 20+ Year Treasury Bond ETF\n",
    "ticker2 = \"OMOIX\" # Vivaldi Multi-Strategy Fund Class I"
   ]
  },
  {
   "cell_type": "code",
   "execution_count": null,
   "metadata": {},
   "outputs": [],
   "source": [
    "def etf_general(ticker):\n",
    "    return pd.Series(requests.get(\"https://eodhistoricaldata.com/api/fundamentals/{}?api_token={}\".format(ticker, token)).json()[\"General\"])"
   ]
  },
  {
   "cell_type": "code",
   "execution_count": null,
   "metadata": {},
   "outputs": [],
   "source": [
    "etf_general(ticker)"
   ]
  },
  {
   "cell_type": "code",
   "execution_count": null,
   "metadata": {},
   "outputs": [],
   "source": [
    "etf_general(ticker).Description"
   ]
  },
  {
   "cell_type": "code",
   "execution_count": null,
   "metadata": {},
   "outputs": [],
   "source": [
    "def etf_technicals(ticker):\n",
    "    return pd.Series(requests.get(\"https://eodhistoricaldata.com/api/fundamentals/{}?api_token={}\".format(ticker, token)).json()[\"Technicals\"])"
   ]
  },
  {
   "cell_type": "code",
   "execution_count": null,
   "metadata": {},
   "outputs": [],
   "source": [
    "etf_technicals(ticker)"
   ]
  },
  {
   "cell_type": "code",
   "execution_count": null,
   "metadata": {},
   "outputs": [],
   "source": [
    "def etf_breakdowns(ticker):\n",
    "    return pd.Series(requests.get(\"https://eodhistoricaldata.com/api/fundamentals/{}?api_token={}\".format(ticker, token)).json()[\"ETF_Data\"])"
   ]
  },
  {
   "cell_type": "code",
   "execution_count": null,
   "metadata": {},
   "outputs": [],
   "source": [
    "etf_breakdowns(ticker)"
   ]
  },
  {
   "cell_type": "code",
   "execution_count": null,
   "metadata": {},
   "outputs": [],
   "source": [
    "def fund_general(ticker):\n",
    "    return pd.Series(requests.get(\"https://eodhistoricaldata.com/api/fundamentals/{}?api_token={}\".format(ticker, token)).json()[\"General\"])"
   ]
  },
  {
   "cell_type": "code",
   "execution_count": null,
   "metadata": {},
   "outputs": [],
   "source": [
    "fund_general(ticker2)"
   ]
  },
  {
   "cell_type": "code",
   "execution_count": null,
   "metadata": {},
   "outputs": [],
   "source": [
    "def fund_data(ticker):\n",
    "    return pd.Series(requests.get(\"https://eodhistoricaldata.com/api/fundamentals/{}?api_token={}\".format(ticker, token)).json()[\"MutualFund_Data\"])"
   ]
  },
  {
   "cell_type": "code",
   "execution_count": null,
   "metadata": {},
   "outputs": [],
   "source": [
    "fund_data(ticker2)"
   ]
  },
  {
   "cell_type": "code",
   "execution_count": null,
   "metadata": {},
   "outputs": [],
   "source": []
  },
  {
   "cell_type": "markdown",
   "metadata": {},
   "source": [
    "## Bond Data: Fundamentals"
   ]
  },
  {
   "cell_type": "code",
   "execution_count": null,
   "metadata": {},
   "outputs": [],
   "source": [
    "import pandas as pd\n",
    "import requests"
   ]
  },
  {
   "cell_type": "code",
   "execution_count": null,
   "metadata": {},
   "outputs": [],
   "source": [
    "ident = \"910047AG4\""
   ]
  },
  {
   "cell_type": "code",
   "execution_count": null,
   "metadata": {},
   "outputs": [],
   "source": [
    "def bond_meta(ident):\n",
    "    return pd.Series(requests.get(\"https://eodhistoricaldata.com/api/bond-fundamentals/{}?api_token={}\".format(ident, token)).json())"
   ]
  },
  {
   "cell_type": "code",
   "execution_count": null,
   "metadata": {},
   "outputs": [],
   "source": [
    "bond_meta(ident)"
   ]
  },
  {
   "cell_type": "code",
   "execution_count": null,
   "metadata": {},
   "outputs": [],
   "source": [
    "bond_meta(ident).IssueData"
   ]
  },
  {
   "cell_type": "code",
   "execution_count": null,
   "metadata": {},
   "outputs": [],
   "source": [
    "def bond_class(ident):\n",
    "    return pd.Series(requests.get(\"https://eodhistoricaldata.com/api/bond-fundamentals/{}?api_token={}\".format(ident, token)).json()[\"ClassificationData\"])"
   ]
  },
  {
   "cell_type": "code",
   "execution_count": null,
   "metadata": {},
   "outputs": [],
   "source": [
    "bond_class(ident)"
   ]
  },
  {
   "cell_type": "code",
   "execution_count": null,
   "metadata": {},
   "outputs": [],
   "source": []
  },
  {
   "cell_type": "markdown",
   "metadata": {},
   "source": [
    "## Bond Data: Ratings"
   ]
  },
  {
   "cell_type": "code",
   "execution_count": null,
   "metadata": {},
   "outputs": [],
   "source": [
    "import pandas as pd\n",
    "import requests"
   ]
  },
  {
   "cell_type": "code",
   "execution_count": null,
   "metadata": {},
   "outputs": [],
   "source": [
    "ident = \"910047AG4\""
   ]
  },
  {
   "cell_type": "code",
   "execution_count": null,
   "metadata": {},
   "outputs": [],
   "source": [
    "def bond_rating(ident):\n",
    "    rating = pd.Series(requests.get(\"https://eodhistoricaldata.com/api/bond-fundamentals/{}?api_token={}\".format(ident, token)).json()[\"Rating\"])\n",
    "    return pd.DataFrame(index = rating[~rating.index.str.contains(\"Update\")].index, data = {\"Rating\": rating[~rating.index.str.contains(\"Update\")].values, \"Update_Date\": rating[rating.index.str.contains(\"Update\")].values})"
   ]
  },
  {
   "cell_type": "code",
   "execution_count": null,
   "metadata": {},
   "outputs": [],
   "source": [
    "bond_rating(ident)"
   ]
  },
  {
   "cell_type": "code",
   "execution_count": null,
   "metadata": {},
   "outputs": [],
   "source": []
  },
  {
   "cell_type": "markdown",
   "metadata": {},
   "source": [
    "## Bond Data: Historical Prices, Yields and Volume"
   ]
  },
  {
   "cell_type": "code",
   "execution_count": null,
   "metadata": {},
   "outputs": [],
   "source": [
    "import pandas as pd\n",
    "import requests"
   ]
  },
  {
   "cell_type": "code",
   "execution_count": null,
   "metadata": {},
   "outputs": [],
   "source": [
    "Isin = \"US910047AG49\""
   ]
  },
  {
   "cell_type": "code",
   "execution_count": null,
   "metadata": {},
   "outputs": [],
   "source": [
    "def bond_hist(Isin, start):\n",
    "    return pd.read_csv(\"https://eodhistoricaldata.com/api/eod/{}.BOND?api_token={}&fmt=csv&from={}\".format(Isin, token, start), parse_dates = [\"Date\"], index_col = \"Date\").iloc[:-1]"
   ]
  },
  {
   "cell_type": "code",
   "execution_count": null,
   "metadata": {
    "scrolled": true
   },
   "outputs": [],
   "source": [
    "bond_hist(Isin, \"2013-11-08\")"
   ]
  },
  {
   "cell_type": "code",
   "execution_count": null,
   "metadata": {},
   "outputs": [],
   "source": []
  },
  {
   "cell_type": "markdown",
   "metadata": {},
   "source": [
    "## All Ticker Symbols for entire Exchanges"
   ]
  },
  {
   "cell_type": "code",
   "execution_count": null,
   "metadata": {},
   "outputs": [],
   "source": [
    "import pandas as pd"
   ]
  },
  {
   "cell_type": "code",
   "execution_count": null,
   "metadata": {},
   "outputs": [],
   "source": [
    "def ex_symbols(exchange):\n",
    "    return pd.read_csv(\"https://eodhistoricaldata.com/api/exchanges/{}?api_token={}&fmt=csv\".format(exchange, token)).iloc[:-1]"
   ]
  },
  {
   "cell_type": "code",
   "execution_count": null,
   "metadata": {
    "scrolled": true
   },
   "outputs": [],
   "source": [
    "ex_symbols(\"US\")"
   ]
  },
  {
   "cell_type": "code",
   "execution_count": null,
   "metadata": {},
   "outputs": [],
   "source": [
    "us = ex_symbols(\"US\")"
   ]
  },
  {
   "cell_type": "code",
   "execution_count": null,
   "metadata": {},
   "outputs": [],
   "source": [
    "us.Type.value_counts()"
   ]
  },
  {
   "cell_type": "code",
   "execution_count": null,
   "metadata": {
    "scrolled": true
   },
   "outputs": [],
   "source": [
    "ex_symbols(\"MU\")"
   ]
  },
  {
   "cell_type": "code",
   "execution_count": null,
   "metadata": {
    "scrolled": true
   },
   "outputs": [],
   "source": [
    "ex_symbols(\"INDX\")"
   ]
  },
  {
   "cell_type": "code",
   "execution_count": null,
   "metadata": {
    "scrolled": true
   },
   "outputs": [],
   "source": [
    "ex_symbols(\"COMM\")"
   ]
  },
  {
   "cell_type": "code",
   "execution_count": null,
   "metadata": {
    "scrolled": true
   },
   "outputs": [],
   "source": [
    "ex_symbols(\"CC\")"
   ]
  },
  {
   "cell_type": "code",
   "execution_count": null,
   "metadata": {},
   "outputs": [],
   "source": []
  },
  {
   "cell_type": "markdown",
   "metadata": {},
   "source": [
    "## Bulk Download of Prices, Splits & Dividends for entire Exchanges "
   ]
  },
  {
   "cell_type": "code",
   "execution_count": null,
   "metadata": {},
   "outputs": [],
   "source": [
    "import pandas as pd"
   ]
  },
  {
   "cell_type": "code",
   "execution_count": null,
   "metadata": {},
   "outputs": [],
   "source": [
    "def bulk_price(exchange, date):\n",
    "    return pd.read_csv(\"http://eodhistoricaldata.com/api/eod-bulk-last-day/{}?api_token={}&fmt=csv&date={}\".format(exchange, token, date)).iloc[:-1]"
   ]
  },
  {
   "cell_type": "code",
   "execution_count": null,
   "metadata": {
    "scrolled": true
   },
   "outputs": [],
   "source": [
    "bulk_price(\"US\", \"2018-05-04\")"
   ]
  },
  {
   "cell_type": "code",
   "execution_count": null,
   "metadata": {
    "scrolled": true
   },
   "outputs": [],
   "source": [
    "bulk_price(\"LSE\", \"2018-05-04\")"
   ]
  },
  {
   "cell_type": "code",
   "execution_count": null,
   "metadata": {},
   "outputs": [],
   "source": [
    "def bulk_split(exchange, date):\n",
    "    return pd.read_csv(\"http://eodhistoricaldata.com/api/eod-bulk-last-day/{}?api_token={}&type=splits&date={}\".format(exchange, token, date)).iloc[:-1]"
   ]
  },
  {
   "cell_type": "code",
   "execution_count": null,
   "metadata": {},
   "outputs": [],
   "source": [
    "bulk_split(\"US\", \"2018-05-04\")"
   ]
  },
  {
   "cell_type": "code",
   "execution_count": null,
   "metadata": {},
   "outputs": [],
   "source": [
    "def bulk_dividend(exchange, date):\n",
    "    return pd.read_csv(\"http://eodhistoricaldata.com/api/eod-bulk-last-day/{}?api_token={}&type=dividends&date={}\".format(exchange, token, date)).iloc[:-1]"
   ]
  },
  {
   "cell_type": "code",
   "execution_count": null,
   "metadata": {
    "scrolled": true
   },
   "outputs": [],
   "source": [
    "bulk_dividend(\"LSE\", \"2018-05-04\")"
   ]
  },
  {
   "cell_type": "code",
   "execution_count": null,
   "metadata": {},
   "outputs": [],
   "source": []
  }
 ],
 "metadata": {
  "kernelspec": {
   "display_name": "Python 3",
   "language": "python",
   "name": "python3"
  },
  "language_info": {
   "codemirror_mode": {
    "name": "ipython",
    "version": 3
   },
   "file_extension": ".py",
   "mimetype": "text/x-python",
   "name": "python",
   "nbconvert_exporter": "python",
   "pygments_lexer": "ipython3",
   "version": "3.7.3"
  }
 },
 "nbformat": 4,
 "nbformat_minor": 2
}
